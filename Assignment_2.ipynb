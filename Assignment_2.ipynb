{
 "cells": [
  {
   "cell_type": "code",
   "execution_count": 42,
   "metadata": {},
   "outputs": [],
   "source": [
    "#1.1\n",
    "#Write a Python Program to implement your own myreduce() function which works exactly like Python's built-in function reduce()\n",
    "\n",
    "#reduce function returns single value as result\n",
    "\n",
    "def myreduce(sequence):\n",
    "    \n",
    "    #store the intial index value of provided sequence\n",
    "    finalresult = sequence[0]\n",
    "    \n",
    "    #loop on sequence other than first index value\n",
    "    for currentitem in sequence[1:]:\n",
    "        finalresult = finalresult+currentitem\n",
    "    \n",
    "    #return the final result value\n",
    "    return finalresult\n",
    "    \n"
   ]
  },
  {
   "cell_type": "code",
   "execution_count": 43,
   "metadata": {},
   "outputs": [
    {
     "data": {
      "text/plain": [
       "10"
      ]
     },
     "execution_count": 43,
     "metadata": {},
     "output_type": "execute_result"
    }
   ],
   "source": [
    "#invoke the custom reduce function\n",
    "myreduce([1,2,3,4])"
   ]
  },
  {
   "cell_type": "code",
   "execution_count": 44,
   "metadata": {},
   "outputs": [],
   "source": [
    "#1.2\n",
    "#Write a Python program to implement your own myfilter() function which works exactly like Python's built-in function filter()\n",
    "\n",
    "#filter function filter out all the elements which returns false and keeps only those elements which returns true\n",
    "\n",
    "def myfilter(listofelements):\n",
    "    \n",
    "    finalresult = []\n",
    "    for currentitem in listofelements:\n",
    "        if (currentitem%2==0):\n",
    "            finalresult.append(currentitem)\n",
    "    \n",
    "    return finalresult"
   ]
  },
  {
   "cell_type": "code",
   "execution_count": 45,
   "metadata": {},
   "outputs": [
    {
     "name": "stdout",
     "output_type": "stream",
     "text": [
      "[2, 4, 6, 8, 10]\n"
     ]
    }
   ],
   "source": [
    "#invoking the custom filter function to filter out all the even numbers and odd numbers from the provided list\n",
    "\n",
    "print(myfilter([1,2,3,4,5,6,7,8,9,10]))"
   ]
  },
  {
   "cell_type": "code",
   "execution_count": 46,
   "metadata": {},
   "outputs": [
    {
     "name": "stdout",
     "output_type": "stream",
     "text": [
      "['A', 'C', 'A', 'D', 'G', 'I', 'L', 'D']\n"
     ]
    }
   ],
   "source": [
    "#2.Implement List comprehensions to produce the following lists.\n",
    "#Write List comprehensions to produce the following Lists\n",
    "#['A', 'C', 'A', 'D', 'G', 'I', ’L’, ‘ D’]\n",
    "#['x', 'xx', 'xxx', 'xxxx', 'y', 'yy', 'yyy', 'yyyy', 'z', 'zz', 'zzz', 'zzzz']\n",
    "#['x', 'y', 'z', 'xx', 'yy', 'zz', 'xx', 'yy', 'zz', 'xxxx', 'yyyy', 'zzzz']\n",
    "#[[2], [3], [4], [3], [4], [5], [4], [5], [6]]\n",
    "#[[2, 3, 4, 5], [3, 4, 5, 6], [4, 5, 6, 7], [5, 6, 7, 8]]\n",
    "#[(1, 1), (2, 1), (3, 1), (1, 2), (2, 2), (3, 2), (1, 3), (2, 3), (3, 3)]\n",
    "\n",
    "#1st way of generting #['A', 'C', 'A', 'D', 'G', 'I', ’L’, ‘ D’]\n",
    "\n",
    "givenword = 'ACADGILD'\n",
    "finallist = []\n",
    "for currentitem in givenword:\n",
    "    finallist.append(currentitem)    \n",
    "print(finallist)"
   ]
  },
  {
   "cell_type": "code",
   "execution_count": 47,
   "metadata": {},
   "outputs": [
    {
     "name": "stdout",
     "output_type": "stream",
     "text": [
      "['A', 'C', 'A', 'D', 'G', 'I', 'L', 'D']\n"
     ]
    }
   ],
   "source": [
    "#2nd way of generating #['A', 'C', 'A', 'D', 'G', 'I', ’L’, ‘ D’]\n",
    "\n",
    "givenword = 'ACADGILD'\n",
    "finallist = [currentitem for currentitem in givenword]\n",
    "print(finallist)"
   ]
  },
  {
   "cell_type": "code",
   "execution_count": 48,
   "metadata": {},
   "outputs": [
    {
     "name": "stdout",
     "output_type": "stream",
     "text": [
      "['x', 'xx', 'xxx', 'xxxx', 'y', 'yy', 'yyy', 'yyyy', 'z', 'zz', 'zzz', 'zzzz']\n"
     ]
    }
   ],
   "source": [
    "#1st way of Generating ['x', 'xx', 'xxx', 'xxxx', 'y', 'yy', 'yyy', 'yyyy', 'z', 'zz', 'zzz', 'zzzz']\n",
    "\n",
    "givenword = ['x','y','z']\n",
    "finallist = []\n",
    "for currentitem in givenword:\n",
    "    for currentnum in range(1,5):\n",
    "        finallist.append(currentitem*currentnum)\n",
    "print(finallist)"
   ]
  },
  {
   "cell_type": "code",
   "execution_count": 16,
   "metadata": {},
   "outputs": [
    {
     "name": "stdout",
     "output_type": "stream",
     "text": [
      "['x', 'xx', 'xxx', 'xxxx', 'y', 'yy', 'yyy', 'yyyy', 'z', 'zz', 'zzz', 'zzzz']\n"
     ]
    }
   ],
   "source": [
    "#2nd way of Generating ['x', 'xx', 'xxx', 'xxxx', 'y', 'yy', 'yyy', 'yyyy', 'z', 'zz', 'zzz', 'zzzz']\n",
    "\n",
    "givenword = ['x','y','z']\n",
    "finallist = [currentitem*currentnum for currentitem in givenword for currentnum in range(1,5)]\n",
    "print(finallist)"
   ]
  },
  {
   "cell_type": "code",
   "execution_count": 49,
   "metadata": {},
   "outputs": [
    {
     "name": "stdout",
     "output_type": "stream",
     "text": [
      "['x', 'y', 'z', 'xx', 'yy', 'zz', 'xx', 'yy', 'zz', 'xxxx', 'yyyy', 'zzzz']\n"
     ]
    }
   ],
   "source": [
    "#Generating #['x', 'y', 'z', 'xx', 'yy', 'zz', 'xx', 'yy', 'zz', 'xxxx', 'yyyy', 'zzzz']\n",
    "\n",
    "givenword = ['x','y','z']\n",
    "finallist = []\n",
    "for currentnum in range(1,5):\n",
    "    for currentitem in givenword:\n",
    "        if currentnum != 3:\n",
    "            finallist.append(currentitem*currentnum)\n",
    "        if currentnum == 2 and currentitem=='z':\n",
    "            for currentitem2 in givenword:\n",
    "                finallist.append(currentitem2*currentnum)            \n",
    "print(finallist)"
   ]
  },
  {
   "cell_type": "code",
   "execution_count": 50,
   "metadata": {},
   "outputs": [
    {
     "name": "stdout",
     "output_type": "stream",
     "text": [
      "[[2], [3], [4], [3], [4], [5], [4], [5], [6]]\n"
     ]
    }
   ],
   "source": [
    "#1st way of Generating [[2], [3], [4], [3], [4], [5], [4], [5], [6]]\n",
    "\n",
    "givennumbers = [2,3,4]\n",
    "finallist = []\n",
    "for currentnum in range(0,3):\n",
    "    for currentitem in givennumbers:\n",
    "        finallist.append([currentitem+currentnum])         \n",
    "print(finallist)"
   ]
  },
  {
   "cell_type": "code",
   "execution_count": 51,
   "metadata": {},
   "outputs": [
    {
     "name": "stdout",
     "output_type": "stream",
     "text": [
      "[[2], [3], [4], [3], [4], [5], [4], [5], [6]]\n"
     ]
    }
   ],
   "source": [
    "#2nd way of Generating [[2], [3], [4], [3], [4], [5], [4], [5], [6]]\n",
    "\n",
    "givennumbers = [2,3,4]\n",
    "finallist = [[currentitem+currentnum] for currentnum in range(0,3) for currentitem in givennumbers]   \n",
    "print(finallist)"
   ]
  },
  {
   "cell_type": "code",
   "execution_count": 52,
   "metadata": {},
   "outputs": [
    {
     "name": "stdout",
     "output_type": "stream",
     "text": [
      "[[2, 3, 4, 5], [3, 4, 5, 6], [4, 5, 6, 7], [5, 6, 7, 8]]\n"
     ]
    }
   ],
   "source": [
    "#[[2, 3, 4, 5], [3, 4, 5, 6], [4, 5, 6, 7], [5, 6, 7, 8]]\n",
    "\n",
    "givennumbers = [2,3,4,5]\n",
    "finallist = []\n",
    "for currentnum in range(0,4):\n",
    "    templist=[]\n",
    "    for currentitem in givennumbers:\n",
    "        templist.append(currentitem+currentnum)\n",
    "    finallist.append(templist)\n",
    "print(finallist)"
   ]
  },
  {
   "cell_type": "code",
   "execution_count": 53,
   "metadata": {},
   "outputs": [
    {
     "name": "stdout",
     "output_type": "stream",
     "text": [
      "[(1, 1), (2, 1), (3, 1), (1, 2), (2, 2), (3, 2), (1, 3), (2, 3), (3, 3)]\n"
     ]
    }
   ],
   "source": [
    "#1st way of generating [(1, 1), (2, 1), (3, 1), (1, 2), (2, 2), (3, 2), (1, 3), (2, 3), (3, 3)]\n",
    "\n",
    "givennumbers = [1,2,3]\n",
    "finallist = []\n",
    "for currentitem1 in givennumbers:\n",
    "    for currentitem2 in givennumbers:\n",
    "        finallist.append((currentitem2,currentitem1))\n",
    "print(finallist)\n"
   ]
  },
  {
   "cell_type": "code",
   "execution_count": 54,
   "metadata": {},
   "outputs": [
    {
     "name": "stdout",
     "output_type": "stream",
     "text": [
      "[(1, 1), (2, 1), (3, 1), (1, 2), (2, 2), (3, 2), (1, 3), (2, 3), (3, 3)]\n"
     ]
    }
   ],
   "source": [
    "#2nd way of generating [(1, 1), (2, 1), (3, 1), (1, 2), (2, 2), (3, 2), (1, 3), (2, 3), (3, 3)]\n",
    "\n",
    "givennumbers = [1,2,3]\n",
    "finallist = [(currentitem2,currentitem1) for currentitem1 in givennumbers for currentitem2 in givennumbers]\n",
    "print(finallist)"
   ]
  },
  {
   "cell_type": "code",
   "execution_count": 55,
   "metadata": {},
   "outputs": [],
   "source": [
    "#3.Implement a function longestWord() that takes a list of words and returns the longest one.\n",
    "\n",
    "from functools import reduce\n",
    "\n",
    "def longestWord(sequenceofwords):\n",
    "    return reduce(lambda firstword, secondword: secondword if len(secondword)>len(firstword) else firstword,sequenceofwords)  \n"
   ]
  },
  {
   "cell_type": "code",
   "execution_count": 56,
   "metadata": {},
   "outputs": [
    {
     "name": "stdout",
     "output_type": "stream",
     "text": [
      "sai machine learning 121212\n"
     ]
    }
   ],
   "source": [
    "givenwords = ['sai machine learning 121212','sudhanshu','ineuron','krish','artificial intelligence']\n",
    "print(longestWord(givenwords))"
   ]
  },
  {
   "cell_type": "code",
   "execution_count": 57,
   "metadata": {},
   "outputs": [],
   "source": [
    "#Task 2:\n",
    "#1.1 Write a Python Program(with class concepts) to find the area of the triangle using the below formula.\n",
    "#area = (s*(s-a)*(s-b)*(s-c)) ** 0.5 \n",
    "#Function to take the length of the sides of triangle from user should be defined in the parent class and function to calculate the area should be defined in subclass.\n",
    "\n",
    "class Triangle:\n",
    "    def __init__(self,a,b,c):\n",
    "        self.side1 = a\n",
    "        self.side2 = b\n",
    "        self.side3 = c\n",
    "        print(\"Super class Triangle Instance Created \")\n",
    "        \n",
    "class AreaOfTriangle(Triangle):\n",
    "    def __init__(self,a,b,c):\n",
    "        print(\"child class AreaOfTriangle Instance Created \")\n",
    "        super(AreaOfTriangle,self).__init__(a,b,c)\n",
    "        \n",
    "    def getAreaOfTriangle(self):\n",
    "        s = (self.side1 + self.side2 + self.side3)/2\n",
    "        return (s*(s-self.side1)*(s-self.side2)*(s-self.side3)) ** 0.5 "
   ]
  },
  {
   "cell_type": "code",
   "execution_count": 58,
   "metadata": {},
   "outputs": [
    {
     "name": "stdout",
     "output_type": "stream",
     "text": [
      "child class AreaOfTriangle Instance Created \n",
      "Super class Triangle Instance Created \n"
     ]
    },
    {
     "data": {
      "text/plain": [
       "2.9047375096555625"
      ]
     },
     "execution_count": 58,
     "metadata": {},
     "output_type": "execute_result"
    }
   ],
   "source": [
    "instance = AreaOfTriangle(2,3,4)\n",
    "instance.getAreaOfTriangle()"
   ]
  },
  {
   "cell_type": "code",
   "execution_count": 59,
   "metadata": {},
   "outputs": [],
   "source": [
    "#1.2 Write a function filter_long_words() that takes a list of words and an integer n and returns the list of words that are longer than n.\n",
    "\n",
    "#1st way of generating the o/p using class with function.\n",
    "class myutils:\n",
    "    \n",
    "    def __init__(self,listofwords,lengthtobecompared):\n",
    "        self.listofwords=listofwords\n",
    "        self.lengthtobecompared=lengthtobecompared\n",
    "        \n",
    "    def filter_long_words(self):\n",
    "        return list(filter(lambda word:len(word)>self.lengthtobecompared,self.listofwords))\n",
    "        \n"
   ]
  },
  {
   "cell_type": "code",
   "execution_count": 60,
   "metadata": {},
   "outputs": [
    {
     "data": {
      "text/plain": [
       "['jonnala', 'hyderabad']"
      ]
     },
     "execution_count": 60,
     "metadata": {},
     "output_type": "execute_result"
    }
   ],
   "source": [
    "instance = myutils(['sai','jonnala','prasad','hyderabad'],6)\n",
    "instance.filter_long_words()"
   ]
  },
  {
   "cell_type": "code",
   "execution_count": 61,
   "metadata": {},
   "outputs": [],
   "source": [
    "#1.2 Write a function filter_long_words() that takes a list of words and an integer n and returns the list of words that are longer than n.\n",
    "#2nd way of generating the o/p using just function\n",
    "\n",
    "def filter_long_words(sequenceofwords,lengthtobecompared):\n",
    "    listofwords=[]\n",
    "    for currentword in sequenceofwords:\n",
    "        if (len(currentword)>lengthtobecompared):\n",
    "            listofwords.append(currentword)\n",
    "    return listofwords\n"
   ]
  },
  {
   "cell_type": "code",
   "execution_count": 62,
   "metadata": {},
   "outputs": [
    {
     "data": {
      "text/plain": [
       "['jonnala', 'hyderabad']"
      ]
     },
     "execution_count": 62,
     "metadata": {},
     "output_type": "execute_result"
    }
   ],
   "source": [
    "filter_long_words(['sai','jonnala','prasad','hyderabad'],6)"
   ]
  },
  {
   "cell_type": "code",
   "execution_count": 63,
   "metadata": {},
   "outputs": [],
   "source": [
    "#2.1 Write a Python program using function concept that maps list of words into a list of integers\n",
    "#representing the lengths of the corresponding words.\n",
    "#Hint: If a list [ ab,cde,erty] is passed on to the python function output should come as [2,3,4]\n",
    "#Here 2,3 and 4 are the lengths of the words in the list.\n",
    "\n",
    "class myutils2:\n",
    "    def __init__(self,listofwords):\n",
    "        self.listofwords = listofwords\n",
    "        \n",
    "    def lengthofword(self):\n",
    "        return list(map(lambda x:len(x),self.listofwords))\n",
    "        "
   ]
  },
  {
   "cell_type": "code",
   "execution_count": 64,
   "metadata": {},
   "outputs": [
    {
     "data": {
      "text/plain": [
       "[3, 7, 6, 9]"
      ]
     },
     "execution_count": 64,
     "metadata": {},
     "output_type": "execute_result"
    }
   ],
   "source": [
    "instance = myutils2(['sai','jonnala','prasad','hyderabad'])\n",
    "instance.lengthofword()"
   ]
  },
  {
   "cell_type": "code",
   "execution_count": 67,
   "metadata": {},
   "outputs": [
    {
     "name": "stdout",
     "output_type": "stream",
     "text": [
      "Enter Any Character:e\n"
     ]
    },
    {
     "data": {
      "text/plain": [
       "True"
      ]
     },
     "execution_count": 67,
     "metadata": {},
     "output_type": "execute_result"
    }
   ],
   "source": [
    "#2.2 Write a Python function which takes a character (i.e. a string of length 1) and returns True if it is a vowel, False otherwise.\n",
    "\n",
    "giveninput = input('Enter Any Character:')\n",
    "\n",
    "def checkforvowel(providedchar):\n",
    "    if(providedchar=='a' or providedchar=='e' or providedchar=='i' or providedchar=='o' or providedchar=='u'):\n",
    "        return True\n",
    "    else:\n",
    "        return False\n",
    "    \n",
    "\n",
    "checkforvowel(giveninput)"
   ]
  }
 ],
 "metadata": {
  "kernelspec": {
   "display_name": "Python 3",
   "language": "python",
   "name": "python3"
  },
  "language_info": {
   "codemirror_mode": {
    "name": "ipython",
    "version": 3
   },
   "file_extension": ".py",
   "mimetype": "text/x-python",
   "name": "python",
   "nbconvert_exporter": "python",
   "pygments_lexer": "ipython3",
   "version": "3.7.4"
  }
 },
 "nbformat": 4,
 "nbformat_minor": 2
}
